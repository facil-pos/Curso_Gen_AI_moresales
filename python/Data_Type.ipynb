{
 "cells": [
  {
   "cell_type": "markdown",
   "metadata": {},
   "source": [
    "# Numeros\n",
    "\n",
    "Python soporta diferentes tipos de números como enteros (int), flotantes (float) y números complejos (complex)."
   ]
  },
  {
   "cell_type": "code",
   "execution_count": null,
   "metadata": {},
   "outputs": [],
   "source": [
    "# Ejemplos de tipos numéricos\n",
    "\n",
    "num_int = 10        # Entero\n",
    "num_float = 10.5    # Flotante\n",
    "num_complex = 3 + 4j  # Número complejo\n",
    "\n",
    "print(type(num_int))    # <class 'int'>\n",
    "print(type(num_float))  # <class 'float'>\n",
    "print(type(num_complex)) # <class 'complex'>\n"
   ]
  },
  {
   "cell_type": "markdown",
   "metadata": {},
   "source": [
    "# Cadenas de Texto\n",
    "\n",
    "Las cadenas se usan para almacenar texto."
   ]
  },
  {
   "cell_type": "code",
   "execution_count": null,
   "metadata": {},
   "outputs": [],
   "source": [
    "texto = \"Hola, Python!\"\n",
    "print(texto[0])   # Imprime el primer carácter \"H\"\n",
    "print(len(texto)) # Imprime la longitud de la cadena"
   ]
  },
  {
   "cell_type": "markdown",
   "metadata": {},
   "source": [
    "# Listas\n",
    "\n",
    "Las listas son colecciones ordenadas y mutables."
   ]
  },
  {
   "cell_type": "code",
   "execution_count": null,
   "metadata": {},
   "outputs": [],
   "source": [
    "numeros = [1, 2, 3, 4, 5]\n",
    "numeros.append(6)     # Agrega 6 al final de la lista\n",
    "print(numeros[1:4])   # Imprime los elementos del índice 1 al 3"
   ]
  },
  {
   "cell_type": "markdown",
   "metadata": {},
   "source": [
    "# Tuplas\n",
    "\n",
    "Las tuplas son colecciones ordenadas e inmutables"
   ]
  },
  {
   "cell_type": "code",
   "execution_count": null,
   "metadata": {},
   "outputs": [],
   "source": [
    "mi_tupla = (1, 2, 3, \"Python\", True)"
   ]
  },
  {
   "cell_type": "code",
   "execution_count": null,
   "metadata": {},
   "outputs": [],
   "source": [
    "# Acceso a Elementos: Puedes acceder a los elementos de una tupla usando el índice, igual que en una lista.\n",
    "\n",
    "print(mi_tupla[0])  # Imprime 1\n",
    "print(mi_tupla[-1]) # Imprime True (último elemento)"
   ]
  },
  {
   "cell_type": "code",
   "execution_count": null,
   "metadata": {},
   "outputs": [],
   "source": [
    "# Desempaquetado de Tuplas: Una característica útil es el desempaquetado, donde puedes asignar cada valor de una tupla a una variable.\n",
    "\n",
    "a, b, c, d, e = mi_tupla\n",
    "print(a)  # Imprime 1\n",
    "print(d)  # Imprime \"Python\""
   ]
  },
  {
   "cell_type": "markdown",
   "metadata": {},
   "source": [
    "## Operaciones con Tuplas:\n",
    "\n",
    "* Concatenación: Puedes concatenar tuplas con el operador +.\n",
    "* Repetición: Repetir una tupla con el operador *.\n",
    "* Comprobar si un elemento existe: Usa el operador in."
   ]
  },
  {
   "cell_type": "code",
   "execution_count": null,
   "metadata": {},
   "outputs": [],
   "source": [
    "tupla1 = (1, 2, 3)\n",
    "tupla2 = (4, 5)\n",
    "nueva_tupla = tupla1 + tupla2\n",
    "print(nueva_tupla)      # Imprime (1, 2, 3, 4, 5)\n",
    "\n",
    "repetida = tupla1 * 2\n",
    "print(repetida)         # Imprime (1, 2, 3, 1, 2, 3)\n",
    "\n",
    "print(2 in tupla1)      # Imprime True"
   ]
  },
  {
   "cell_type": "markdown",
   "metadata": {},
   "source": [
    "# Conjuntos\n",
    "\n",
    "Los conjuntos son colecciones desordenadas sin duplicados. Son útiles para realizar operaciones matemáticas de teoría de conjuntos, como unión, intersección y diferencia."
   ]
  },
  {
   "cell_type": "code",
   "execution_count": null,
   "metadata": {},
   "outputs": [],
   "source": [
    "mi_conjunto = {1, 2, 3, \"Python\", True}\n",
    "\n",
    "mi_conjunto.add(4)\n",
    "print(mi_conjunto)      # Imprime {1, 2, 3, 4, 'Python', True}\n",
    "\n",
    "mi_conjunto.remove(\"Python\")\n",
    "print(mi_conjunto)      # Imprime {1, 2, 3, 4, True}"
   ]
  },
  {
   "cell_type": "markdown",
   "metadata": {},
   "source": [
    "## Operaciones Básicas:\n",
    "\n",
    "* Agregar un elemento: Usa el método .add().\n",
    "* Eliminar un elemento: Usa .remove() (lanza error si el elemento no existe) o .discard() (no lanza error).\n",
    "* Limpiar el conjunto: Usa .clear() para vaciar el conjunto."
   ]
  },
  {
   "cell_type": "code",
   "execution_count": null,
   "metadata": {},
   "outputs": [],
   "source": [
    "mi_conjunto.add(4)\n",
    "print(mi_conjunto)      # Imprime {1, 2, 3, 4, 'Python', True}\n",
    "\n",
    "mi_conjunto.remove(\"Python\")\n",
    "print(mi_conjunto)      # Imprime {1, 2, 3, 4, True}"
   ]
  },
  {
   "cell_type": "markdown",
   "metadata": {},
   "source": [
    "## Operaciones de Teoría de Conjuntos:\n",
    "\n",
    "* Unión: set1 | set2 o set1.union(set2)\n",
    "* Intersección: set1 & set2 o set1.intersection(set2)\n",
    "* Diferencia: set1 - set2 o set1.difference(set2)\n",
    "* Diferencia simétrica (elementos en uno u otro, pero no en ambos): set1 ^ set2 o set1.symmetric_difference(set2)"
   ]
  },
  {
   "cell_type": "code",
   "execution_count": null,
   "metadata": {},
   "outputs": [],
   "source": [
    "a = {1, 2, 3}\n",
    "b = {3, 4, 5}\n",
    "\n",
    "print(a | b)            # Unión: {1, 2, 3, 4, 5}\n",
    "print(a & b)            # Intersección: {3}\n",
    "print(a - b)            # Diferencia: {1, 2}\n",
    "print(a ^ b)            # Diferencia simétrica: {1, 2, 4, 5}"
   ]
  },
  {
   "cell_type": "markdown",
   "metadata": {},
   "source": [
    "# Diccionarios\n",
    "\n",
    "Los diccionarios son colecciones desordenadas de pares clave-valor, donde cada clave debe ser única."
   ]
  },
  {
   "cell_type": "code",
   "execution_count": null,
   "metadata": {},
   "outputs": [],
   "source": [
    "mi_diccionario = {\"nombre\": \"Juan\", \"edad\": 25, \"ciudad\": \"Madrid\"}"
   ]
  },
  {
   "cell_type": "code",
   "execution_count": null,
   "metadata": {},
   "outputs": [],
   "source": [
    "# Acceso a Elementos: Puedes acceder a los valores mediante sus claves y, si la clave no existe, puedes usar .get() para evitar errores y recibir None (o un valor predeterminado).\n",
    "\n",
    "print(mi_diccionario[\"nombre\"])    # Imprime \"Juan\"\n",
    "print(mi_diccionario.get(\"edad\"))  # Imprime 25\n",
    "print(mi_diccionario.get(\"pais\", \"No especificado\"))  # Imprime \"No especificado\""
   ]
  },
  {
   "cell_type": "markdown",
   "metadata": {},
   "source": [
    "## Modificar, Agregar y Eliminar Elementos:\n",
    "\n",
    "* Para agregar o actualizar, usa el formato diccionario[clave] = valor.\n",
    "* Para eliminar un elemento, usa del diccionario[clave] o .pop(clave).\n",
    "* Elimina todos los elementos con .clear()."
   ]
  },
  {
   "cell_type": "code",
   "execution_count": null,
   "metadata": {},
   "outputs": [],
   "source": [
    "mi_diccionario[\"edad\"] = 26        # Modifica el valor de \"edad\"\n",
    "mi_diccionario[\"pais\"] = \"España\"  # Agrega una nueva clave \"pais\"\n",
    "print(mi_diccionario)              # Imprime el diccionario actualizado\n",
    "\n",
    "del mi_diccionario[\"ciudad\"]       # Elimina \"ciudad\"\n",
    "print(mi_diccionario)              # Imprime {\"nombre\": \"Juan\", \"edad\": 26, \"pais\": \"España\"}"
   ]
  },
  {
   "cell_type": "markdown",
   "metadata": {},
   "source": [
    "# Métodos Útiles:\n",
    "\n",
    "* .keys(): Devuelve una lista de claves.\n",
    "* .values(): Devuelve una lista de valores.\n",
    "* .items(): Devuelve una lista de pares clave-valor."
   ]
  },
  {
   "cell_type": "code",
   "execution_count": null,
   "metadata": {},
   "outputs": [],
   "source": [
    "print(mi_diccionario.keys())       # Imprime las claves\n",
    "print(mi_diccionario.values())     # Imprime los valores\n",
    "print(mi_diccionario.items())      # Imprime los pares clave-valor"
   ]
  }
 ],
 "metadata": {
  "kernelspec": {
   "display_name": ".venv",
   "language": "python",
   "name": "python3"
  },
  "language_info": {
   "name": "python",
   "version": "3.10.12"
  }
 },
 "nbformat": 4,
 "nbformat_minor": 2
}
