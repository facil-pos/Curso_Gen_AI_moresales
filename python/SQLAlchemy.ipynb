{
 "cells": [
  {
   "cell_type": "markdown",
   "metadata": {},
   "source": [
    "# Instalacion"
   ]
  },
  {
   "cell_type": "code",
   "execution_count": 1,
   "metadata": {},
   "outputs": [
    {
     "name": "stdout",
     "output_type": "stream",
     "text": [
      "Requirement already satisfied: sqlalchemy in /home/dannkol/curso_AI/.venv/lib/python3.10/site-packages (2.0.36)\n",
      "Requirement already satisfied: typing-extensions>=4.6.0 in /home/dannkol/curso_AI/.venv/lib/python3.10/site-packages (from sqlalchemy) (4.12.2)\n",
      "Requirement already satisfied: greenlet!=0.4.17 in /home/dannkol/curso_AI/.venv/lib/python3.10/site-packages (from sqlalchemy) (3.1.1)\n"
     ]
    }
   ],
   "source": [
    "! pip install sqlalchemy"
   ]
  },
  {
   "cell_type": "markdown",
   "metadata": {},
   "source": [
    "# Configurando la base de datos\n",
    "\n",
    "Vamos a crear una base de datos simple para gestionar una biblioteca. Tendrá dos tablas principales: Libro y Autor.\n",
    "\n",
    "* Cada libro tiene un título, una fecha de publicación y un autor asociado.\n",
    "* Cada autor tiene un nombre y una nacionalidad.\n",
    "* Queremos poder consultar los libros por autor y realizar algunas consultas simples."
   ]
  },
  {
   "cell_type": "code",
   "execution_count": 1,
   "metadata": {},
   "outputs": [],
   "source": [
    "# import sqlalchemy\n",
    "\n",
    "from sqlalchemy import create_engine, Column, Integer, String, Date, ForeignKey\n",
    "from sqlalchemy.orm import declarative_base, relationship, sessionmaker\n",
    "from datetime import date"
   ]
  },
  {
   "cell_type": "code",
   "execution_count": 2,
   "metadata": {},
   "outputs": [],
   "source": [
    "# Configuración de la conexión y el motor de la base de datos, en este caso usaremos sqlite para no tener que configurar la base de datos en el sistema\n",
    "engine = create_engine('sqlite:///biblioteca.db', echo=True)\n",
    "Base = declarative_base() # Crear una clase base desde la cual todas las clases de modelo de base de datos heredan."
   ]
  },
  {
   "cell_type": "code",
   "execution_count": 3,
   "metadata": {},
   "outputs": [],
   "source": [
    "# Definimos la clase `Autor`, que representa la tabla \"autores\" en la base de datos.\n",
    "# Hereda de `Base`, lo que indica a SQLAlchemy que esta clase es un modelo de tabla.\n",
    "class Autor(Base):\n",
    "    # Nombre de la tabla en la base de datos\n",
    "    __tablename__ = 'autores'\n",
    "    \n",
    "    # Columna 'id' como clave primaria: cada autor tendrá un ID único para identificarlo en la tabla\n",
    "    id = Column(Integer, primary_key=True)\n",
    "    \n",
    "    # Columna 'nombre' para almacenar el nombre del autor. \n",
    "    # 'nullable=False' significa que este campo no puede estar vacío.\n",
    "    nombre = Column(String, nullable=False)\n",
    "    \n",
    "    # Columna 'nacionalidad' para almacenar la nacionalidad del autor.\n",
    "    # También se marca como no nula para asegurar que cada autor tenga nacionalidad registrada.\n",
    "    nacionalidad = Column(String, nullable=False)\n",
    "    \n",
    "    # Definición de relación con la tabla 'libros'.\n",
    "    # Esto establece una relación uno-a-muchos entre 'Autor' y 'Libro',\n",
    "    # donde un autor puede tener varios libros.\n",
    "    # `back_populates=\"autor\"` conecta esta relación con la relación en la clase `Libro`.\n",
    "    libros = relationship(\"Libro\", back_populates=\"autor\")\n",
    "    \n",
    "# Definición de la tabla Libro\n",
    "class Libro(Base):\n",
    "    __tablename__ = 'libros'\n",
    "    \n",
    "    id = Column(Integer, primary_key=True)\n",
    "    titulo = Column(String, nullable=False)\n",
    "    fecha_publicacion = Column(Date, nullable=False)\n",
    "    \n",
    "    # Columna 'autor_id' que actúa como clave foránea, conectando este libro con un autor en la tabla `autores`.\n",
    "    # La clave foránea `ForeignKey('autores.id')` establece que `autor_id` debe coincidir con un `id` en la tabla `autores`.\n",
    "    autor_id = Column(Integer, ForeignKey('autores.id'))\n",
    "    \n",
    "    # Relación inversa con la tabla `Autor`.\n",
    "    # `back_populates=\"libros\"` conecta esta relación con la relación en la clase `Autor`.\n",
    "    # Esto permite acceder al autor de un libro usando `libro.autor`, y acceder a los libros de un autor usando `autor.libros`.\n",
    "    autor = relationship(\"Autor\", back_populates=\"libros\")"
   ]
  },
  {
   "cell_type": "code",
   "execution_count": 4,
   "metadata": {},
   "outputs": [
    {
     "name": "stdout",
     "output_type": "stream",
     "text": [
      "2024-11-14 11:09:57,669 INFO sqlalchemy.engine.Engine BEGIN (implicit)\n",
      "2024-11-14 11:09:57,670 INFO sqlalchemy.engine.Engine PRAGMA main.table_info(\"autores\")\n",
      "2024-11-14 11:09:57,671 INFO sqlalchemy.engine.Engine [raw sql] ()\n",
      "2024-11-14 11:09:57,673 INFO sqlalchemy.engine.Engine PRAGMA temp.table_info(\"autores\")\n",
      "2024-11-14 11:09:57,674 INFO sqlalchemy.engine.Engine [raw sql] ()\n",
      "2024-11-14 11:09:57,675 INFO sqlalchemy.engine.Engine PRAGMA main.table_info(\"libros\")\n",
      "2024-11-14 11:09:57,676 INFO sqlalchemy.engine.Engine [raw sql] ()\n",
      "2024-11-14 11:09:57,676 INFO sqlalchemy.engine.Engine PRAGMA temp.table_info(\"libros\")\n",
      "2024-11-14 11:09:57,677 INFO sqlalchemy.engine.Engine [raw sql] ()\n",
      "2024-11-14 11:09:57,678 INFO sqlalchemy.engine.Engine \n",
      "CREATE TABLE autores (\n",
      "\tid INTEGER NOT NULL, \n",
      "\tnombre VARCHAR NOT NULL, \n",
      "\tnacionalidad VARCHAR NOT NULL, \n",
      "\tPRIMARY KEY (id)\n",
      ")\n",
      "\n",
      "\n",
      "2024-11-14 11:09:57,678 INFO sqlalchemy.engine.Engine [no key 0.00066s] ()\n",
      "2024-11-14 11:09:57,684 INFO sqlalchemy.engine.Engine \n",
      "CREATE TABLE libros (\n",
      "\tid INTEGER NOT NULL, \n",
      "\ttitulo VARCHAR NOT NULL, \n",
      "\tfecha_publicacion DATE NOT NULL, \n",
      "\tautor_id INTEGER, \n",
      "\tPRIMARY KEY (id), \n",
      "\tFOREIGN KEY(autor_id) REFERENCES autores (id)\n",
      ")\n",
      "\n",
      "\n",
      "2024-11-14 11:09:57,685 INFO sqlalchemy.engine.Engine [no key 0.00100s] ()\n",
      "2024-11-14 11:09:57,690 INFO sqlalchemy.engine.Engine COMMIT\n"
     ]
    }
   ],
   "source": [
    "# Crear las tablas en la base de datos\n",
    "# ---------------------------------------------------\n",
    "# `Base.metadata.create_all(engine)` es una llamada que utiliza la metadata de todos los modelos de tabla definidos \n",
    "# (es decir, todos los modelos que heredan de `Base`) para crear esas tablas en la base de datos.\n",
    "# La metadata es una colección de definiciones de esquema de tablas, incluyendo nombres de tablas, columnas, claves \n",
    "# primarias y relaciones.\n",
    "# Al ejecutar `create_all`, SQLAlchemy revisa las tablas de la base de datos que no existen y las crea de acuerdo \n",
    "# a las especificaciones de nuestros modelos.\n",
    "# Nota: Si las tablas ya existen, `create_all` no las reemplazará, lo que evita la pérdida de datos.\n",
    "Base.metadata.create_all(engine)\n",
    "\n",
    "# Configuración de la sesión\n",
    "# ---------------------------------------------------\n",
    "# La sesión es el punto de interacción principal entre el código Python y la base de datos.\n",
    "# En SQLAlchemy, una \"sesión\" es un objeto que gestiona operaciones de consulta y transacción.\n",
    "# Aquí configuramos una sesión para conectarnos a la base de datos y realizar consultas, inserciones, \n",
    "# actualizaciones y eliminaciones en las tablas.\n",
    "\n",
    "# Primero, creamos una clase de fábrica de sesiones (`sessionmaker`) que está enlazada (bind) al `engine`.\n",
    "# `engine` es el objeto que define la conexión a la base de datos, configurando así `sessionmaker` para crear \n",
    "# sesiones que interactúan con esa base de datos específica.\n",
    "Session = sessionmaker(bind=engine)"
   ]
  },
  {
   "cell_type": "code",
   "execution_count": 5,
   "metadata": {},
   "outputs": [],
   "source": [
    "# `Session()` crea una instancia de sesión que se usará para interactuar con la base de datos.\n",
    "# Esta instancia de sesión nos permite agregar, eliminar y consultar registros en la base de datos.\n",
    "# Las operaciones de la sesión son transaccionales: hasta que llamemos a `commit()`, los cambios no se \n",
    "# guardan permanentemente en la base de datos. Esto proporciona control sobre las transacciones, permitiendo \n",
    "# confirmar (`commit`) o deshacer (`rollback`) las operaciones según sea necesario.\n",
    "session = Session()"
   ]
  },
  {
   "cell_type": "markdown",
   "metadata": {},
   "source": [
    "# Insertar datos en la base de datos"
   ]
  },
  {
   "cell_type": "code",
   "execution_count": 6,
   "metadata": {},
   "outputs": [
    {
     "name": "stdout",
     "output_type": "stream",
     "text": [
      "2024-11-14 11:10:07,930 INFO sqlalchemy.engine.Engine BEGIN (implicit)\n",
      "2024-11-14 11:10:07,933 INFO sqlalchemy.engine.Engine INSERT INTO autores (nombre, nacionalidad) VALUES (?, ?) RETURNING id\n",
      "2024-11-14 11:10:07,934 INFO sqlalchemy.engine.Engine [generated in 0.00008s (insertmanyvalues) 1/2 (ordered; batch not supported)] ('Gabriel García Márquez', 'Colombiana')\n",
      "2024-11-14 11:10:07,935 INFO sqlalchemy.engine.Engine INSERT INTO autores (nombre, nacionalidad) VALUES (?, ?) RETURNING id\n",
      "2024-11-14 11:10:07,936 INFO sqlalchemy.engine.Engine [insertmanyvalues 2/2 (ordered; batch not supported)] ('Isabel Allende', 'Chilena')\n",
      "2024-11-14 11:10:07,938 INFO sqlalchemy.engine.Engine INSERT INTO libros (titulo, fecha_publicacion, autor_id) VALUES (?, ?, ?) RETURNING id\n",
      "2024-11-14 11:10:07,939 INFO sqlalchemy.engine.Engine [generated in 0.00016s (insertmanyvalues) 1/3 (ordered; batch not supported)] ('Cien años de soledad', '1967-05-05', 1)\n",
      "2024-11-14 11:10:07,941 INFO sqlalchemy.engine.Engine INSERT INTO libros (titulo, fecha_publicacion, autor_id) VALUES (?, ?, ?) RETURNING id\n",
      "2024-11-14 11:10:07,941 INFO sqlalchemy.engine.Engine [insertmanyvalues 2/3 (ordered; batch not supported)] ('El amor en los tiempos del cólera', '1985-03-06', 1)\n",
      "2024-11-14 11:10:07,942 INFO sqlalchemy.engine.Engine INSERT INTO libros (titulo, fecha_publicacion, autor_id) VALUES (?, ?, ?) RETURNING id\n",
      "2024-11-14 11:10:07,943 INFO sqlalchemy.engine.Engine [insertmanyvalues 3/3 (ordered; batch not supported)] ('La casa de los espíritus', '1982-10-15', 2)\n",
      "2024-11-14 11:10:07,944 INFO sqlalchemy.engine.Engine COMMIT\n"
     ]
    }
   ],
   "source": [
    "# Crear instancias de autores\n",
    "autor1 = Autor(nombre=\"Gabriel García Márquez\", nacionalidad=\"Colombiana\")\n",
    "autor2 = Autor(nombre=\"Isabel Allende\", nacionalidad=\"Chilena\")\n",
    "\n",
    "# Crear instancias de libros asociados a los autores\n",
    "libro1 = Libro(titulo=\"Cien años de soledad\", fecha_publicacion=date(1967, 5, 5), autor=autor1)\n",
    "libro2 = Libro(titulo=\"El amor en los tiempos del cólera\", fecha_publicacion=date(1985, 3, 6), autor=autor1)\n",
    "libro3 = Libro(titulo=\"La casa de los espíritus\", fecha_publicacion=date(1982, 10, 15), autor=autor2)\n",
    "\n",
    "# Agregar y confirmar los cambios en la sesión\n",
    "session.add_all([autor1, autor2, libro1, libro2, libro3])\n",
    "session.commit()"
   ]
  },
  {
   "cell_type": "markdown",
   "metadata": {},
   "source": [
    "# Consultas"
   ]
  },
  {
   "cell_type": "code",
   "execution_count": 7,
   "metadata": {},
   "outputs": [
    {
     "name": "stdout",
     "output_type": "stream",
     "text": [
      "2024-11-14 11:10:11,448 INFO sqlalchemy.engine.Engine BEGIN (implicit)\n",
      "2024-11-14 11:10:11,452 INFO sqlalchemy.engine.Engine SELECT libros.id AS libros_id, libros.titulo AS libros_titulo, libros.fecha_publicacion AS libros_fecha_publicacion, libros.autor_id AS libros_autor_id \n",
      "FROM libros\n",
      "2024-11-14 11:10:11,453 INFO sqlalchemy.engine.Engine [generated in 0.00083s] ()\n",
      "2024-11-14 11:10:11,456 INFO sqlalchemy.engine.Engine SELECT autores.id AS autores_id, autores.nombre AS autores_nombre, autores.nacionalidad AS autores_nacionalidad \n",
      "FROM autores \n",
      "WHERE autores.id = ?\n",
      "2024-11-14 11:10:11,458 INFO sqlalchemy.engine.Engine [generated in 0.00191s] (1,)\n",
      "Cien años de soledad, escrito por Gabriel García Márquez\n",
      "El amor en los tiempos del cólera, escrito por Gabriel García Márquez\n",
      "2024-11-14 11:10:11,459 INFO sqlalchemy.engine.Engine SELECT autores.id AS autores_id, autores.nombre AS autores_nombre, autores.nacionalidad AS autores_nacionalidad \n",
      "FROM autores \n",
      "WHERE autores.id = ?\n",
      "2024-11-14 11:10:11,460 INFO sqlalchemy.engine.Engine [cached since 0.004077s ago] (2,)\n",
      "La casa de los espíritus, escrito por Isabel Allende\n"
     ]
    }
   ],
   "source": [
    "libros = session.query(Libro).all()\n",
    "for libro in libros:\n",
    "    print(f\"{libro.titulo}, escrito por {libro.autor.nombre}\")"
   ]
  },
  {
   "cell_type": "code",
   "execution_count": 10,
   "metadata": {},
   "outputs": [
    {
     "name": "stdout",
     "output_type": "stream",
     "text": [
      "2024-11-14 11:12:43,044 INFO sqlalchemy.engine.Engine BEGIN (implicit)\n",
      "2024-11-14 11:12:43,046 INFO sqlalchemy.engine.Engine SELECT autores.id AS autores_id, autores.nombre AS autores_nombre, autores.nacionalidad AS autores_nacionalidad \n",
      "FROM autores \n",
      "WHERE autores.nombre = ?\n",
      " LIMIT ? OFFSET ?\n",
      "2024-11-14 11:12:43,047 INFO sqlalchemy.engine.Engine [cached since 145.3s ago] ('Gabriel García Márquez', 1, 0)\n",
      "2024-11-14 11:12:43,051 INFO sqlalchemy.engine.Engine SELECT libros.id AS libros_id, libros.titulo AS libros_titulo, libros.fecha_publicacion AS libros_fecha_publicacion, libros.autor_id AS libros_autor_id \n",
      "FROM libros \n",
      "WHERE ? = libros.autor_id\n",
      "2024-11-14 11:12:43,053 INFO sqlalchemy.engine.Engine [cached since 145.3s ago] (1,)\n",
      "Cien años de soledad (Edición revisada)\n",
      "El amor en los tiempos del cólera\n"
     ]
    }
   ],
   "source": [
    "# Consultas con filtros\n",
    "autor = session.query(Autor).filter_by(nombre=\"Gabriel García Márquez\").first()\n",
    "if autor:\n",
    "    for libro in autor.libros:\n",
    "        print(libro.titulo)"
   ]
  },
  {
   "cell_type": "code",
   "execution_count": 9,
   "metadata": {},
   "outputs": [
    {
     "name": "stdout",
     "output_type": "stream",
     "text": [
      "2024-11-14 11:12:35,650 INFO sqlalchemy.engine.Engine SELECT libros.id AS libros_id, libros.titulo AS libros_titulo, libros.fecha_publicacion AS libros_fecha_publicacion, libros.autor_id AS libros_autor_id \n",
      "FROM libros \n",
      "WHERE libros.titulo = ?\n",
      " LIMIT ? OFFSET ?\n",
      "2024-11-14 11:12:35,652 INFO sqlalchemy.engine.Engine [generated in 0.00171s] ('Cien años de soledad', 1, 0)\n",
      "2024-11-14 11:12:35,656 INFO sqlalchemy.engine.Engine UPDATE libros SET titulo=? WHERE libros.id = ?\n",
      "2024-11-14 11:12:35,656 INFO sqlalchemy.engine.Engine [generated in 0.00080s] ('Cien años de soledad (Edición revisada)', 1)\n",
      "2024-11-14 11:12:35,658 INFO sqlalchemy.engine.Engine COMMIT\n"
     ]
    }
   ],
   "source": [
    "# Actualizacion\n",
    "libro = session.query(Libro).filter_by(titulo=\"Cien años de soledad\").first()\n",
    "if libro:\n",
    "    libro.titulo = \"Cien años de soledad (Edición revisada)\"\n",
    "    session.commit()"
   ]
  },
  {
   "cell_type": "code",
   "execution_count": null,
   "metadata": {},
   "outputs": [],
   "source": [
    "# Eliminar registro\n",
    "\n",
    "libro = session.query(Libro).filter_by(titulo=\"La casa de los espíritus\").first()\n",
    "if libro:\n",
    "    session.delete(libro)\n",
    "    session.commit()"
   ]
  },
  {
   "cell_type": "markdown",
   "metadata": {},
   "source": [
    "# Transacción\n",
    "\n",
    "En SQLAlchemy, una transacción agrupa varias operaciones de base de datos, de modo que todas se confirmen o ninguna lo haga. Esto es útil si queremos asegurar que varias operaciones se realicen correctamente o se reviertan en caso de error."
   ]
  },
  {
   "cell_type": "code",
   "execution_count": null,
   "metadata": {},
   "outputs": [
    {
     "name": "stdout",
     "output_type": "stream",
     "text": [
      "2024-11-14 11:08:53,334 INFO sqlalchemy.engine.Engine BEGIN (implicit)\n",
      "2024-11-14 11:08:53,336 INFO sqlalchemy.engine.Engine INSERT INTO autores (nombre, nacionalidad) VALUES (?, ?)\n",
      "2024-11-14 11:08:53,336 INFO sqlalchemy.engine.Engine [cached since 303.9s ago] ('Gabriel García Márquez', 'Colombiano')\n",
      "2024-11-14 11:08:53,337 INFO sqlalchemy.engine.Engine INSERT INTO libros (titulo, fecha_publicacion, autor_id) VALUES (?, ?, ?)\n",
      "2024-11-14 11:08:53,338 INFO sqlalchemy.engine.Engine [cached since 303.9s ago] ('Crónica de una muerte anunciada', '1981-03-06', 3)\n",
      "2024-11-14 11:08:53,339 INFO sqlalchemy.engine.Engine COMMIT\n",
      "Transacción completada con éxito.\n"
     ]
    }
   ],
   "source": [
    "from sqlalchemy.exc import IntegrityError\n",
    "session = Session()\n",
    "# Iniciamos la transacción\n",
    "try:\n",
    "    # Creamos un nuevo autor\n",
    "    nuevo_autor = Autor(nombre=\"Gabriel García Márquez\", nacionalidad=\"Colombiano\")\n",
    "    \n",
    "    # Creamos un nuevo libro asociado a este autor\n",
    "    nuevo_libro = Libro(titulo=\"Crónica de una muerte anunciada\", fecha_publicacion=\"1967-05-30\", autor=nuevo_autor) # date(1981, 3, 6)\n",
    "    \n",
    "    # Añadimos el autor y el libro a la sesión\n",
    "    session.add(nuevo_autor)\n",
    "    session.add(nuevo_libro)\n",
    "    \n",
    "    # Confirmamos la transacción\n",
    "    session.commit()\n",
    "    print(\"Transacción completada con éxito.\")\n",
    "except IntegrityError as e:\n",
    "    # En caso de error, revertimos todas las operaciones realizadas en esta transacción\n",
    "    session.rollback()\n",
    "    print(f\"Error en la transacción: {e}\")\n"
   ]
  },
  {
   "cell_type": "code",
   "execution_count": null,
   "metadata": {},
   "outputs": [
    {
     "name": "stdout",
     "output_type": "stream",
     "text": [
      "2024-11-14 11:08:56,798 INFO sqlalchemy.engine.Engine BEGIN (implicit)\n",
      "2024-11-14 11:08:56,799 INFO sqlalchemy.engine.Engine SELECT autores.id AS autores_id, autores.nombre AS autores_nombre, autores.nacionalidad AS autores_nacionalidad \n",
      "FROM autores \n",
      "WHERE autores.nombre = ?\n",
      " LIMIT ? OFFSET ?\n",
      "2024-11-14 11:08:56,800 INFO sqlalchemy.engine.Engine [cached since 1886s ago] ('Gabriel García Márquez', 1, 0)\n",
      "2024-11-14 11:08:56,802 INFO sqlalchemy.engine.Engine SELECT libros.id AS libros_id, libros.titulo AS libros_titulo, libros.fecha_publicacion AS libros_fecha_publicacion, libros.autor_id AS libros_autor_id \n",
      "FROM libros \n",
      "WHERE ? = libros.autor_id\n",
      "2024-11-14 11:08:56,802 INFO sqlalchemy.engine.Engine [cached since 1886s ago] (1,)\n",
      "Cien años de soledad\n",
      "El amor en los tiempos del cólera\n"
     ]
    }
   ],
   "source": [
    "# Consultas con filtros\n",
    "autor = session.query(Autor).filter_by(nombre=\"Gabriel García Márquez\").first()\n",
    "if autor:\n",
    "    for libro in autor.libros:\n",
    "        print(libro.titulo)"
   ]
  },
  {
   "cell_type": "markdown",
   "metadata": {},
   "source": [
    "# Consulta Avanzada\n",
    "\n",
    "Supongamos que queremos realizar una consulta avanzada que nos proporcione los autores y el número de libros que cada uno tiene en la base de datos. Utilizaremos una combinación de agregación y filtrado."
   ]
  },
  {
   "cell_type": "code",
   "execution_count": null,
   "metadata": {},
   "outputs": [],
   "source": [
    "from sqlalchemy import func\n",
    "\n",
    "# Consulta avanzada para contar libros por autor\n",
    "consulta = (\n",
    "    session.query(Autor.nombre, func.count(Libro.id).label(\"num_libros\"))\n",
    "    .join(Libro, Autor.id == Libro.autor_id)  # Unimos Autor y Libro a través de autor_id\n",
    "    .group_by(Autor.id)  # Agrupamos por el autor para contar sus libros\n",
    "    .having(func.count(Libro.id) > 1)  # Filtramos para autores con más de un libro\n",
    "    .all()\n",
    ")\n",
    "\n",
    "# Mostramos los resultados\n",
    "for autor, num_libros in consulta:\n",
    "    print(f\"Autor: {autor}, Libros publicados: {num_libros}\")"
   ]
  }
 ],
 "metadata": {
  "kernelspec": {
   "display_name": ".venv",
   "language": "python",
   "name": "python3"
  },
  "language_info": {
   "codemirror_mode": {
    "name": "ipython",
    "version": 3
   },
   "file_extension": ".py",
   "mimetype": "text/x-python",
   "name": "python",
   "nbconvert_exporter": "python",
   "pygments_lexer": "ipython3",
   "version": "3.10.12"
  }
 },
 "nbformat": 4,
 "nbformat_minor": 2
}
